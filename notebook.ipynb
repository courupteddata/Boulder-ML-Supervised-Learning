{
 "cells": [
  {
   "metadata": {},
   "cell_type": "markdown",
   "source": [
    "# Youtube Comment Spam Dataset Analysis\n",
    "\n",
    "Dataset Source: https://www.kaggle.com/datasets/ahsenwaheed/youtube-comments-spam-dataset\n",
    "\n",
    "Dataset License: https://creativecommons.org/licenses/by/4.0/\n",
    "\n",
    "The goal of this project is to classify comments as SPAM (1) or NOT SPAM (0) based on some features described below in the initial look leveraging a SVM. Since the CONTENT field is a string, some work will be needed in order to convert it to a usable parameter for the classification model.\n",
    "\n",
    "\n",
    "\n",
    "### Load dataset and initial look"
   ],
   "id": "aca37afc671003bb"
  },
  {
   "metadata": {
    "ExecuteTime": {
     "end_time": "2024-08-13T16:49:30.073200Z",
     "start_time": "2024-08-13T16:49:30.044489Z"
    }
   },
   "cell_type": "code",
   "source": [
    "import pandas as pd\n",
    "import numpy as np\n",
    "import gensim\n",
    "import re\n",
    "from sklearn.model_selection import train_test_split\n",
    "from sklearn.svm import SVC\n",
    "\n",
    "df = pd.read_csv(\"data/Youtube-Spam-Dataset.csv\")\n",
    "\n",
    "df.head()"
   ],
   "id": "95fbeea0bb07c4f",
   "outputs": [
    {
     "data": {
      "text/plain": [
       "                                    COMMENT_ID            AUTHOR  \\\n",
       "0  LZQPQhLyRh80UYxNuaDWhIGQYNQ96IuCg-AYWqNPjpU         Julius NM   \n",
       "1  LZQPQhLyRh_C2cTtd9MvFRJedxydaVW-2sNg5Diuo4A       adam riyati   \n",
       "2  LZQPQhLyRh9MSZYnf8djyk0gEF9BHDPYrrK-qCczIY8  Evgeny Murashkin   \n",
       "3          z13jhp0bxqncu512g22wvzkasxmvvzjaz04   ElNino Melendez   \n",
       "4          z13fwbwp1oujthgqj04chlngpvzmtt3r3dw            GsMega   \n",
       "\n",
       "                  DATE                                            CONTENT  \\\n",
       "0  2013-11-07T06:20:48  Huh, anyway check out this you[tube] channel: ...   \n",
       "1  2013-11-07T12:37:15  Hey guys check out my new channel and our firs...   \n",
       "2  2013-11-08T17:34:21             just for test I have to say murdev.com   \n",
       "3  2013-11-09T08:28:43   me shaking my sexy ass on my channel enjoy ^_^ ﻿   \n",
       "4  2013-11-10T16:05:38            watch?v=vtaRGgvGtWQ   Check this out .﻿   \n",
       "\n",
       "                       VIDEO_NAME  CLASS  \n",
       "0  PSY - GANGNAM STYLE(?????) M/V      1  \n",
       "1  PSY - GANGNAM STYLE(?????) M/V      1  \n",
       "2  PSY - GANGNAM STYLE(?????) M/V      1  \n",
       "3  PSY - GANGNAM STYLE(?????) M/V      1  \n",
       "4  PSY - GANGNAM STYLE(?????) M/V      1  "
      ],
      "text/html": [
       "<div>\n",
       "<style scoped>\n",
       "    .dataframe tbody tr th:only-of-type {\n",
       "        vertical-align: middle;\n",
       "    }\n",
       "\n",
       "    .dataframe tbody tr th {\n",
       "        vertical-align: top;\n",
       "    }\n",
       "\n",
       "    .dataframe thead th {\n",
       "        text-align: right;\n",
       "    }\n",
       "</style>\n",
       "<table border=\"1\" class=\"dataframe\">\n",
       "  <thead>\n",
       "    <tr style=\"text-align: right;\">\n",
       "      <th></th>\n",
       "      <th>COMMENT_ID</th>\n",
       "      <th>AUTHOR</th>\n",
       "      <th>DATE</th>\n",
       "      <th>CONTENT</th>\n",
       "      <th>VIDEO_NAME</th>\n",
       "      <th>CLASS</th>\n",
       "    </tr>\n",
       "  </thead>\n",
       "  <tbody>\n",
       "    <tr>\n",
       "      <th>0</th>\n",
       "      <td>LZQPQhLyRh80UYxNuaDWhIGQYNQ96IuCg-AYWqNPjpU</td>\n",
       "      <td>Julius NM</td>\n",
       "      <td>2013-11-07T06:20:48</td>\n",
       "      <td>Huh, anyway check out this you[tube] channel: ...</td>\n",
       "      <td>PSY - GANGNAM STYLE(?????) M/V</td>\n",
       "      <td>1</td>\n",
       "    </tr>\n",
       "    <tr>\n",
       "      <th>1</th>\n",
       "      <td>LZQPQhLyRh_C2cTtd9MvFRJedxydaVW-2sNg5Diuo4A</td>\n",
       "      <td>adam riyati</td>\n",
       "      <td>2013-11-07T12:37:15</td>\n",
       "      <td>Hey guys check out my new channel and our firs...</td>\n",
       "      <td>PSY - GANGNAM STYLE(?????) M/V</td>\n",
       "      <td>1</td>\n",
       "    </tr>\n",
       "    <tr>\n",
       "      <th>2</th>\n",
       "      <td>LZQPQhLyRh9MSZYnf8djyk0gEF9BHDPYrrK-qCczIY8</td>\n",
       "      <td>Evgeny Murashkin</td>\n",
       "      <td>2013-11-08T17:34:21</td>\n",
       "      <td>just for test I have to say murdev.com</td>\n",
       "      <td>PSY - GANGNAM STYLE(?????) M/V</td>\n",
       "      <td>1</td>\n",
       "    </tr>\n",
       "    <tr>\n",
       "      <th>3</th>\n",
       "      <td>z13jhp0bxqncu512g22wvzkasxmvvzjaz04</td>\n",
       "      <td>ElNino Melendez</td>\n",
       "      <td>2013-11-09T08:28:43</td>\n",
       "      <td>me shaking my sexy ass on my channel enjoy ^_^ ﻿</td>\n",
       "      <td>PSY - GANGNAM STYLE(?????) M/V</td>\n",
       "      <td>1</td>\n",
       "    </tr>\n",
       "    <tr>\n",
       "      <th>4</th>\n",
       "      <td>z13fwbwp1oujthgqj04chlngpvzmtt3r3dw</td>\n",
       "      <td>GsMega</td>\n",
       "      <td>2013-11-10T16:05:38</td>\n",
       "      <td>watch?v=vtaRGgvGtWQ   Check this out .﻿</td>\n",
       "      <td>PSY - GANGNAM STYLE(?????) M/V</td>\n",
       "      <td>1</td>\n",
       "    </tr>\n",
       "  </tbody>\n",
       "</table>\n",
       "</div>"
      ]
     },
     "execution_count": 182,
     "metadata": {},
     "output_type": "execute_result"
    }
   ],
   "execution_count": 182
  },
  {
   "metadata": {},
   "cell_type": "markdown",
   "source": [
    "### Explanation of data\n",
    "\n",
    "Columns:\n",
    "* COMMENT_ID\n",
    "    * Identifying information can be dropped\n",
    "    * Datatype: String\n",
    "* AUTHOR\n",
    "    * Name of the user making the comment\n",
    "    * Datatype: string, categorical\n",
    "* DATE\n",
    "    * The date the comment was made\n",
    "    * Datatype: datetime, numerical\n",
    "* CONTENT\n",
    "    * The comment content\n",
    "    * Datatype: string\n",
    "* VIDEO_NAME\n",
    "    * The name of the video the comment was posted to\n",
    "    * Datatype: string, categorical\n",
    "* CLASS\n",
    "    * Whether the comment was spam or not\n",
    "    * Datetype: categorical 1=SPAM, and 0=NOT SPAM\n",
    "\n",
    "### Data cleanup\n"
   ],
   "id": "b9d3cb61fdc7723c"
  },
  {
   "metadata": {
    "ExecuteTime": {
     "end_time": "2024-08-13T16:49:30.098883Z",
     "start_time": "2024-08-13T16:49:30.095289Z"
    }
   },
   "cell_type": "code",
   "source": [
    "# Dropping COMMENT_ID column\n",
    "df = df.drop(\"COMMENT_ID\", axis=1, errors=\"ignore\")\n",
    "\n",
    "# Check count for null fields, which doesn't check for empty strings\n",
    "print(\"Null Field Counts:\")\n",
    "print(df.isnull().sum())\n",
    "\n",
    "print(\"-\" * 6)\n",
    "\n",
    "# Check count for empty \n",
    "print(\"Empty Field Counts:\")\n",
    "print(df.eq(\"\").sum())"
   ],
   "id": "495751be8401c8c5",
   "outputs": [
    {
     "name": "stdout",
     "output_type": "stream",
     "text": [
      "Null Field Counts:\n",
      "AUTHOR          0\n",
      "DATE          245\n",
      "CONTENT         0\n",
      "VIDEO_NAME      0\n",
      "CLASS           0\n",
      "dtype: int64\n",
      "------\n",
      "Empty Field Counts:\n",
      "AUTHOR        0\n",
      "DATE          0\n",
      "CONTENT       0\n",
      "VIDEO_NAME    0\n",
      "CLASS         0\n",
      "dtype: int64\n"
     ]
    }
   ],
   "execution_count": 183
  },
  {
   "metadata": {},
   "cell_type": "markdown",
   "source": "DATE has 245 null fields which will affect converting the field to datetime and will affect some graphs.",
   "id": "282711b5b11fd992"
  },
  {
   "metadata": {
    "ExecuteTime": {
     "end_time": "2024-08-13T16:49:30.127495Z",
     "start_time": "2024-08-13T16:49:30.120179Z"
    }
   },
   "cell_type": "code",
   "source": [
    "# Convert DATE to datetime type\n",
    "df[\"DATE\"] = pd.to_datetime(df[\"DATE\"], format=\"mixed\")\n",
    "# Set CLASS to categorical\n",
    "df[\"CLASS\"] = df[\"CLASS\"].astype(\"category\")\n",
    "\n",
    "print(df.head())\n",
    "df.info()"
   ],
   "id": "42b8550dddd41334",
   "outputs": [
    {
     "name": "stdout",
     "output_type": "stream",
     "text": [
      "             AUTHOR                DATE  \\\n",
      "0         Julius NM 2013-11-07 06:20:48   \n",
      "1       adam riyati 2013-11-07 12:37:15   \n",
      "2  Evgeny Murashkin 2013-11-08 17:34:21   \n",
      "3   ElNino Melendez 2013-11-09 08:28:43   \n",
      "4            GsMega 2013-11-10 16:05:38   \n",
      "\n",
      "                                             CONTENT  \\\n",
      "0  Huh, anyway check out this you[tube] channel: ...   \n",
      "1  Hey guys check out my new channel and our firs...   \n",
      "2             just for test I have to say murdev.com   \n",
      "3   me shaking my sexy ass on my channel enjoy ^_^ ﻿   \n",
      "4            watch?v=vtaRGgvGtWQ   Check this out .﻿   \n",
      "\n",
      "                       VIDEO_NAME CLASS  \n",
      "0  PSY - GANGNAM STYLE(?????) M/V     1  \n",
      "1  PSY - GANGNAM STYLE(?????) M/V     1  \n",
      "2  PSY - GANGNAM STYLE(?????) M/V     1  \n",
      "3  PSY - GANGNAM STYLE(?????) M/V     1  \n",
      "4  PSY - GANGNAM STYLE(?????) M/V     1  \n",
      "<class 'pandas.core.frame.DataFrame'>\n",
      "RangeIndex: 1956 entries, 0 to 1955\n",
      "Data columns (total 5 columns):\n",
      " #   Column      Non-Null Count  Dtype         \n",
      "---  ------      --------------  -----         \n",
      " 0   AUTHOR      1956 non-null   object        \n",
      " 1   DATE        1711 non-null   datetime64[ns]\n",
      " 2   CONTENT     1956 non-null   object        \n",
      " 3   VIDEO_NAME  1956 non-null   object        \n",
      " 4   CLASS       1956 non-null   category      \n",
      "dtypes: category(1), datetime64[ns](1), object(3)\n",
      "memory usage: 63.3+ KB\n"
     ]
    }
   ],
   "execution_count": 184
  },
  {
   "metadata": {},
   "cell_type": "markdown",
   "source": [
    "From the above info we can see the 1956 total entries and the 1711 entries that are non-null.\n",
    "### Data Exploration"
   ],
   "id": "489ec3fdf2cda059"
  },
  {
   "metadata": {
    "ExecuteTime": {
     "end_time": "2024-08-13T16:49:30.289843Z",
     "start_time": "2024-08-13T16:49:30.173461Z"
    }
   },
   "cell_type": "code",
   "source": [
    "# Spam and not spam overtime\n",
    "\n",
    "# Create new view with grouped by date\n",
    "df_date_and_spam = df.dropna()[\"DATE\"].dt.normalize().to_frame().join(df[\"CLASS\"])\n",
    "\n",
    "df_counts = df_date_and_spam.value_counts().reset_index()\n",
    "df_counts = df_counts.sort_values(\"DATE\", ascending=True)\n",
    "\n",
    "# Create new columns based on CLASS and then drop CLASS and count\n",
    "df_counts[\"spam_count\"] = df_counts[\"count\"].where(df_counts[\"CLASS\"] == 1, other=0)\n",
    "df_counts[\"not_spam_count\"] = df_counts[\"count\"].where(df_counts[\"CLASS\"] == 0, other=0)\n",
    "df_counts = df_counts.drop([\"CLASS\", \"count\"], axis=1)\n",
    "\n",
    "# Merge two rows by adding them\n",
    "df_counts = df_counts.groupby(\"DATE\").sum().reset_index()\n",
    "\n",
    "ax = df_counts.plot(x=\"DATE\", y=[\"spam_count\", \"not_spam_count\"])"
   ],
   "id": "b49068f27f66f6eb",
   "outputs": [
    {
     "data": {
      "text/plain": [
       "<Figure size 640x480 with 1 Axes>"
      ],
      "image/png": "[encoded data removed]"
     },
     "metadata": {},
     "output_type": "display_data"
    }
   ],
   "execution_count": 185
  },
  {
   "metadata": {},
   "cell_type": "markdown",
   "source": "Looks like from the plot the focus of the collected data is from 2013 to 2015, which means that it's possible spammers have changed their strategy on how they spam. Also, I suspect that the data is heavily focused on certain video releases.",
   "id": "1855754dabf6b916"
  },
  {
   "metadata": {
    "ExecuteTime": {
     "end_time": "2024-08-13T16:49:30.476010Z",
     "start_time": "2024-08-13T16:49:30.350212Z"
    }
   },
   "cell_type": "code",
   "source": [
    "# Spam per video\n",
    "\n",
    "# Create new view with grouped by date\n",
    "df_video_name_and_spam = df[\"VIDEO_NAME\"].to_frame().join(df[\"CLASS\"])\n",
    "\n",
    "df_counts = df_video_name_and_spam.value_counts().reset_index()\n",
    "df_counts = df_counts.sort_values(\"VIDEO_NAME\", ascending=True)\n",
    "\n",
    "# Create new columns based on CLASS and then drop CLASS and count\n",
    "df_counts[\"spam_count\"] = df_counts[\"count\"].where(df_counts[\"CLASS\"] == 1, other=0)\n",
    "df_counts[\"not_spam_count\"] = df_counts[\"count\"].where(df_counts[\"CLASS\"] == 0, other=0)\n",
    "df_counts = df_counts.drop([\"CLASS\", \"count\"], axis=1)\n",
    "\n",
    "# Merge two rows by adding them\n",
    "df_counts = df_counts.groupby(\"VIDEO_NAME\").sum().reset_index()\n",
    "\n",
    "df_counts.plot(x=\"VIDEO_NAME\", y=[\"spam_count\", \"not_spam_count\"], kind=\"bar\")"
   ],
   "id": "ae9b0ab9fdab5d0e",
   "outputs": [
    {
     "data": {
      "text/plain": [
       "<Axes: xlabel='VIDEO_NAME'>"
      ]
     },
     "execution_count": 186,
     "metadata": {},
     "output_type": "execute_result"
    },
    {
     "data": {
      "text/plain": [
       "<Figure size 640x480 with 1 Axes>"
      ],
      "image/png": "[encoded data removed]"
     },
     "metadata": {},
     "output_type": "display_data"
    }
   ],
   "execution_count": 186
  },
  {
   "metadata": {},
   "cell_type": "markdown",
   "source": [
    "Pretty even distribution between spam and not spam for each of the videos.\n",
    "\n",
    "### String normalization\n",
    "First have to cleanup and simplify the \"CONTENT\" to be able to feed it into a SVM since as it stands now with some special characters the \"CONTENT\" is too complex.\n",
    "A good tutorial followed is here: https://www.kaggle.com/code/mehmetlaudatekman/tutorial-word-embeddings-with-svm/notebook\n",
    "\n",
    "Removing special characters, except for single quote and replacing them with spaces.\n",
    "\n",
    "\n",
    "\n"
   ],
   "id": "76e4eeb6a1593a48"
  },
  {
   "metadata": {
    "ExecuteTime": {
     "end_time": "2024-08-13T16:49:30.506325Z",
     "start_time": "2024-08-13T16:49:30.494109Z"
    }
   },
   "cell_type": "code",
   "source": [
    "# lowercase and replace string with spaces\n",
    "df[\"CONTENT\"] = df[\"CONTENT\"].apply(lambda x: re.sub(\"[^a-z0-9']\", \" \", x.lower()))\n",
    "df[\"AUTHOR\"] = df[\"AUTHOR\"].apply(lambda x: re.sub(\"[^a-z0-9']\", \" \", x.lower()))\n",
    "df.head()"
   ],
   "id": "6f3d9f007fbfc233",
   "outputs": [
    {
     "data": {
      "text/plain": [
       "             AUTHOR                DATE  \\\n",
       "0         julius nm 2013-11-07 06:20:48   \n",
       "1       adam riyati 2013-11-07 12:37:15   \n",
       "2  evgeny murashkin 2013-11-08 17:34:21   \n",
       "3   elnino melendez 2013-11-09 08:28:43   \n",
       "4            gsmega 2013-11-10 16:05:38   \n",
       "\n",
       "                                             CONTENT  \\\n",
       "0  huh  anyway check out this you tube  channel  ...   \n",
       "1  hey guys check out my new channel and our firs...   \n",
       "2             just for test i have to say murdev com   \n",
       "3   me shaking my sexy ass on my channel enjoy         \n",
       "4            watch v vtarggvgtwq   check this out      \n",
       "\n",
       "                       VIDEO_NAME CLASS  \n",
       "0  PSY - GANGNAM STYLE(?????) M/V     1  \n",
       "1  PSY - GANGNAM STYLE(?????) M/V     1  \n",
       "2  PSY - GANGNAM STYLE(?????) M/V     1  \n",
       "3  PSY - GANGNAM STYLE(?????) M/V     1  \n",
       "4  PSY - GANGNAM STYLE(?????) M/V     1  "
      ],
      "text/html": [
       "<div>\n",
       "<style scoped>\n",
       "    .dataframe tbody tr th:only-of-type {\n",
       "        vertical-align: middle;\n",
       "    }\n",
       "\n",
       "    .dataframe tbody tr th {\n",
       "        vertical-align: top;\n",
       "    }\n",
       "\n",
       "    .dataframe thead th {\n",
       "        text-align: right;\n",
       "    }\n",
       "</style>\n",
       "<table border=\"1\" class=\"dataframe\">\n",
       "  <thead>\n",
       "    <tr style=\"text-align: right;\">\n",
       "      <th></th>\n",
       "      <th>AUTHOR</th>\n",
       "      <th>DATE</th>\n",
       "      <th>CONTENT</th>\n",
       "      <th>VIDEO_NAME</th>\n",
       "      <th>CLASS</th>\n",
       "    </tr>\n",
       "  </thead>\n",
       "  <tbody>\n",
       "    <tr>\n",
       "      <th>0</th>\n",
       "      <td>julius nm</td>\n",
       "      <td>2013-11-07 06:20:48</td>\n",
       "      <td>huh  anyway check out this you tube  channel  ...</td>\n",
       "      <td>PSY - GANGNAM STYLE(?????) M/V</td>\n",
       "      <td>1</td>\n",
       "    </tr>\n",
       "    <tr>\n",
       "      <th>1</th>\n",
       "      <td>adam riyati</td>\n",
       "      <td>2013-11-07 12:37:15</td>\n",
       "      <td>hey guys check out my new channel and our firs...</td>\n",
       "      <td>PSY - GANGNAM STYLE(?????) M/V</td>\n",
       "      <td>1</td>\n",
       "    </tr>\n",
       "    <tr>\n",
       "      <th>2</th>\n",
       "      <td>evgeny murashkin</td>\n",
       "      <td>2013-11-08 17:34:21</td>\n",
       "      <td>just for test i have to say murdev com</td>\n",
       "      <td>PSY - GANGNAM STYLE(?????) M/V</td>\n",
       "      <td>1</td>\n",
       "    </tr>\n",
       "    <tr>\n",
       "      <th>3</th>\n",
       "      <td>elnino melendez</td>\n",
       "      <td>2013-11-09 08:28:43</td>\n",
       "      <td>me shaking my sexy ass on my channel enjoy</td>\n",
       "      <td>PSY - GANGNAM STYLE(?????) M/V</td>\n",
       "      <td>1</td>\n",
       "    </tr>\n",
       "    <tr>\n",
       "      <th>4</th>\n",
       "      <td>gsmega</td>\n",
       "      <td>2013-11-10 16:05:38</td>\n",
       "      <td>watch v vtarggvgtwq   check this out</td>\n",
       "      <td>PSY - GANGNAM STYLE(?????) M/V</td>\n",
       "      <td>1</td>\n",
       "    </tr>\n",
       "  </tbody>\n",
       "</table>\n",
       "</div>"
      ]
     },
     "execution_count": 187,
     "metadata": {},
     "output_type": "execute_result"
    }
   ],
   "execution_count": 187
  },
  {
   "metadata": {},
   "cell_type": "markdown",
   "source": [
    "### String Tokenization and Word2Vec Model\n",
    "Leveraging word embeddings, which essentially converts the word to numbers.\n",
    "This is first done by splitting each sentence to its component words and then creating a Word2Vec model from gensim package which is trained on the words in the dataset, this will connect words and provide a way to see how similar words are from one another.\n"
   ],
   "id": "3a21920fbf37bdde"
  },
  {
   "metadata": {
    "ExecuteTime": {
     "end_time": "2024-08-13T16:49:30.621481Z",
     "start_time": "2024-08-13T16:49:30.536566Z"
    }
   },
   "cell_type": "code",
   "source": [
    "# Create list of each entry being the component words split into a list\n",
    "content_tokens = [[word for word in entry.split() if word != \"\"] for entry in df[\"CONTENT\"]]\n",
    "\n",
    "# Setting word vector size to 200\n",
    "vector_size = 200\n",
    "\n",
    "# Train Word2Vec model\n",
    "content_model = gensim.models.Word2Vec(content_tokens, vector_size=vector_size)\n",
    "\n",
    "print(\"Content model word similar to you\", content_model.wv.most_similar(\"you\"))"
   ],
   "id": "845de712d450766a",
   "outputs": [
    {
     "name": "stdout",
     "output_type": "stream",
     "text": [
      "Content model word similar to you [('so', 0.999721348285675), ('to', 0.9996957778930664), ('more', 0.9996945858001709), ('will', 0.999685525894165), ('it', 0.9996849298477173), ('do', 0.9996788501739502), ('can', 0.9996725916862488), ('but', 0.9996715188026428), ('that', 0.9996680021286011), ('see', 0.9996678829193115)]\n"
     ]
    }
   ],
   "execution_count": 188
  },
  {
   "metadata": {},
   "cell_type": "markdown",
   "source": "Convert each word sequence to a vector",
   "id": "791f3a7d0d2cd32d"
  },
  {
   "metadata": {
    "ExecuteTime": {
     "end_time": "2024-08-13T16:49:30.762365Z",
     "start_time": "2024-08-13T16:49:30.701617Z"
    }
   },
   "cell_type": "code",
   "source": [
    "# Creating embedding sequences\n",
    "\n",
    "# Length of each sentence to look at\n",
    "sequence_length = 15\n",
    "\n",
    "# Most common word to look at\n",
    "max_words = 1500\n",
    "\n",
    "# All tokens from input set\n",
    "all_tokens = set(np.concatenate(content_tokens).ravel())\n",
    "\n",
    "# Helper function to extra vector from provided block of text\n",
    "def text_to_vector(text: str):\n",
    "    vectors = []\n",
    "    tokens = text.lower().split()\n",
    "    for i in range(sequence_length):\n",
    "        if i < len(tokens) and tokens[i] in content_model.wv:\n",
    "            vectors.append(content_model.wv[tokens[i]])\n",
    "        else:\n",
    "            vectors.append(np.zeros(vector_size,))\n",
    "    return np.asarray(vectors).flatten()\n",
    "            \n",
    "test_vector = text_to_vector(\"Love is something\")\n",
    "print(\"Test vector:\", test_vector)\n",
    "print(\"vector shape:\", test_vector.shape)"
   ],
   "id": "27be61e115bba3f0",
   "outputs": [
    {
     "name": "stdout",
     "output_type": "stream",
     "text": [
      "Test vector: [-0.09046714 -0.03845366  0.03232839 ...  0.          0.\n",
      "  0.        ]\n",
      "vector shape: (3000,)\n"
     ]
    }
   ],
   "execution_count": 189
  },
  {
   "metadata": {},
   "cell_type": "markdown",
   "source": [
    "### PCA Dimensionality Reduction\n",
    "It's not feasible to train or use a model that uses a vector with 3000 features on commodity hardware. A common way to simplify this as pointed out by the tutorial is to use PCA (Principal Component Analysis). This works by reducing the dimension of the data.\n"
   ],
   "id": "1db101dd34fabf9c"
  },
  {
   "metadata": {
    "ExecuteTime": {
     "end_time": "2024-08-13T16:49:31.288851Z",
     "start_time": "2024-08-13T16:49:30.786643Z"
    }
   },
   "cell_type": "code",
   "source": [
    "# Compute all content vectors and store as numpy array\n",
    "content_vectors = np.asarray([text_to_vector(content) for content in df[\"CONTENT\"]])\n",
    "print(\"Content vector shape\", content_vectors.shape)\n",
    "\n",
    "from sklearn.decomposition import PCA\n",
    "\n",
    "pca_model = PCA(n_components=100)\n",
    "pca_model.fit(content_vectors)\n",
    "print(\"Sum of variance ratios:\", sum(pca_model.explained_variance_ratio_))"
   ],
   "id": "55a6fa545cfbe16b",
   "outputs": [
    {
     "name": "stdout",
     "output_type": "stream",
     "text": [
      "Content vector shape (1956, 3000)\n",
      "Sum of variance ratios: 0.9993554603392899\n"
     ]
    }
   ],
   "execution_count": 190
  },
  {
   "metadata": {},
   "cell_type": "markdown",
   "source": "The variance shows that the original data is preserved quiet well.",
   "id": "51a7fca660a8be30"
  },
  {
   "metadata": {
    "ExecuteTime": {
     "end_time": "2024-08-13T16:49:31.341419Z",
     "start_time": "2024-08-13T16:49:31.313551Z"
    }
   },
   "cell_type": "code",
   "source": [
    "# Transforming the vectors after showing that the model fit quiet well.\n",
    "content_components = pca_model.transform(content_vectors)\n",
    "print(\"Content Components shape:\", content_components.shape)"
   ],
   "id": "215907f7afc98650",
   "outputs": [
    {
     "name": "stdout",
     "output_type": "stream",
     "text": [
      "Content Components shape: (1956, 100)\n"
     ]
    }
   ],
   "execution_count": 191
  },
  {
   "metadata": {},
   "cell_type": "markdown",
   "source": "Now there are only 100 components instead of the original 3000.",
   "id": "2698116d7c2f28c1"
  },
  {
   "metadata": {},
   "cell_type": "markdown",
   "source": "### Training SVM Model\n",
   "id": "9dc9ac5ee98d093e"
  },
  {
   "metadata": {
    "ExecuteTime": {
     "end_time": "2024-08-13T16:49:31.400710Z",
     "start_time": "2024-08-13T16:49:31.379886Z"
    }
   },
   "cell_type": "code",
   "source": [
    "x_train,x_test,y_train,y_test = train_test_split(content_components, df[\"CLASS\"], test_size=0.2)\n",
    "print(\"X Train Shape\", x_train.shape)\n",
    "print(\"X Test Shape\", x_test.shape)\n",
    "print(\"Y Train Shape\", y_train.shape)\n",
    "print(\"Y Test Shape\",y_test.shape)"
   ],
   "id": "e52fd07fb598ba6b",
   "outputs": [
    {
     "name": "stdout",
     "output_type": "stream",
     "text": [
      "X Train Shape (1564, 100)\n",
      "X Test Shape (392, 100)\n",
      "Y Train Shape (1564,)\n",
      "Y Test Shape (392,)\n"
     ]
    }
   ],
   "execution_count": 192
  },
  {
   "metadata": {
    "ExecuteTime": {
     "end_time": "2024-08-13T16:49:31.632282Z",
     "start_time": "2024-08-13T16:49:31.443317Z"
    }
   },
   "cell_type": "code",
   "source": [
    "svm = SVC()\n",
    "svm.fit(x_train,y_train)\n",
    "svm.score(x_test, y_test)"
   ],
   "id": "ed47565007cc446a",
   "outputs": [
    {
     "data": {
      "text/plain": [
       "0.7346938775510204"
      ]
     },
     "execution_count": 193,
     "metadata": {},
     "output_type": "execute_result"
    }
   ],
   "execution_count": 193
  },
  {
   "metadata": {},
   "cell_type": "markdown",
   "source": [
    "A score of .744 isn't too good with classification, only marginally above random which would be expected to be around .50.\n",
    "\n",
    "Trying some tuning since it's possible the C value is too low and the data is overly fit. Trying multiple configurations."
   ],
   "id": "6ac0a3632343a3e1"
  },
  {
   "metadata": {
    "ExecuteTime": {
     "end_time": "2024-08-13T16:49:39.710572Z",
     "start_time": "2024-08-13T16:49:31.646578Z"
    }
   },
   "cell_type": "code",
   "source": [
    "from sklearn.model_selection import GridSearchCV\n",
    "\n",
    "# Grid search with various C and gamma values\n",
    "grid=GridSearchCV(SVC(), {\"C\": np.logspace(-5, 5,  11, base=2), \n",
    "                        \"gamma\": np.logspace(-5, 5, 11, base=2)},\n",
    "                 cv=3, n_jobs=-1)\n",
    "grid.fit(x_train,y_train)\n",
    "print(\"Best params\", grid.best_params_)\n",
    "print(\"Best score\", grid.best_score_)"
   ],
   "id": "33f5a1e0c7cb81f6",
   "outputs": [
    {
     "name": "stdout",
     "output_type": "stream",
     "text": [
      "Best params {'C': 32.0, 'gamma': 0.03125}\n",
      "Best score 0.7864505580436484\n"
     ]
    }
   ],
   "execution_count": 194
  },
  {
   "metadata": {},
   "cell_type": "markdown",
   "source": "Initial glance shows increasing C seems to help and keeping gamma low which would track with the variance of the data.",
   "id": "4c84590f7d59edd"
  },
  {
   "metadata": {
    "ExecuteTime": {
     "end_time": "2024-08-13T16:49:43.155704Z",
     "start_time": "2024-08-13T16:49:39.727661Z"
    }
   },
   "cell_type": "code",
   "source": [
    "# Trying again this time just changing C\n",
    "# Grid search with various C and gamma values\n",
    "grid=GridSearchCV(SVC(), {\"C\": np.logspace(-5, 32, base=2)},\n",
    "                 cv=3, n_jobs=-1)\n",
    "grid.fit(x_train,y_train)\n",
    "print(\"Best params\", grid.best_params_)\n",
    "print(\"Best score\", grid.best_score_)\n",
    "\n",
    "print(\"Test best score\", grid.best_estimator_.score(x_test, y_test))"
   ],
   "id": "7e81405ca0cc789e",
   "outputs": [
    {
     "name": "stdout",
     "output_type": "stream",
     "text": [
      "Best params {'C': 15050.78401549067}\n",
      "Best score 0.7979595188543498\n",
      "Test best score 0.8214285714285714\n"
     ]
    }
   ],
   "execution_count": 195
  },
  {
   "metadata": {},
   "cell_type": "markdown",
   "source": "Was only able so squeeze out a little more accuracy, let's see how it behaves with other models like the random forest and logistic regression. A nice benefit of increasing the C value it resulted in the data not being overly fit to the training data nad resulted in a reasonable score increase when looking at the test set of data.",
   "id": "de73ddaa194023fe"
  },
  {
   "metadata": {
    "ExecuteTime": {
     "end_time": "2024-08-13T16:49:43.811485Z",
     "start_time": "2024-08-13T16:49:43.221746Z"
    }
   },
   "cell_type": "code",
   "source": [
    "from sklearn.ensemble import RandomForestClassifier\n",
    "from sklearn.linear_model import LogisticRegression\n",
    "\n",
    "# Random forest classifier\n",
    "rfc = RandomForestClassifier()\n",
    "rfc.fit(x_train, y_train)\n",
    "print(\"Score of RandomForestClassifier\", rfc.score(x_test,y_test))\n",
    "\n",
    "# Logistic Regression\n",
    "logreg = LogisticRegression()\n",
    "logreg.fit(x_train, y_train)\n",
    "print(\"Score of LogisticRegression\", logreg.score(x_test,y_test))\n",
    "\n"
   ],
   "id": "218a28ddd3775102",
   "outputs": [
    {
     "name": "stdout",
     "output_type": "stream",
     "text": [
      "Score of RandomForestClassifier 0.8954081632653061\n",
      "Score of LogisticRegression 0.8061224489795918\n"
     ]
    }
   ],
   "execution_count": 196
  },
  {
   "metadata": {},
   "cell_type": "markdown",
   "source": "The Random Forest Classifier did surprisingly well and would make sense intuitively because it would \"read\" the sentence and then decide based different decision trees which comment is SPAM. A score of almost .90 is very good score.",
   "id": "14cb08da67424804"
  },
  {
   "metadata": {},
   "cell_type": "markdown",
   "source": [
    "# Conclusion\n",
    "\n",
    "Despite going into this not knowing how to convert a string field into something usable for the models it was interesting to learn about PCA and Word2Vec. Despite having other features that were usable, I ultimately decided to not use them for generating the model because names used on platforms like YouTube can be too inconsistent or made up to be reliable. \n",
    "\n",
    "Some things that can be improved would be to use a larger dataset, this one was large enough to learn but lacked some of the value provided by a larger model and the model was taken from an older dataset.\n",
    "\n",
    "In the day and age of large language models, it's nice to see the value of the \"simpler\" models like SVM that is still capable to get things done. In the later classes I hope to be able to revisit the dataset to apply learned skills to make better predictions and better data cleaning."
   ],
   "id": "bf8ee98306ea3b39"
  }
 ],
 "metadata": {
  "kernelspec": {
   "display_name": "Python 3",
   "language": "python",
   "name": "python3"
  },
  "language_info": {
   "codemirror_mode": {
    "name": "ipython",
    "version": 2
   },
   "file_extension": ".py",
   "mimetype": "text/x-python",
   "name": "python",
   "nbconvert_exporter": "python",
   "pygments_lexer": "ipython2",
   "version": "2.7.6"
  }
 },
 "nbformat": 4,
 "nbformat_minor": 5
}
